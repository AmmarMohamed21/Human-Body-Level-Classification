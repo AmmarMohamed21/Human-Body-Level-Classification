{
 "cells": [
  {
   "attachments": {},
   "cell_type": "markdown",
   "metadata": {},
   "source": [
    "### Perceptron"
   ]
  },
  {
   "cell_type": "code",
   "execution_count": 414,
   "metadata": {},
   "outputs": [],
   "source": [
    "import numpy as np\n",
    "import pandas as pd\n",
    "import matplotlib.pyplot as plt\n",
    "from sklearn.linear_model import Perceptron\n",
    "from sklearn.model_selection import train_test_split, KFold, cross_val_score\n",
    "from sklearn.metrics import accuracy_score, precision_score, recall_score, f1_score, confusion_matrix\n",
    "from common_functions import *"
   ]
  },
  {
   "attachments": {},
   "cell_type": "markdown",
   "metadata": {},
   "source": [
    "### Data loading"
   ]
  },
  {
   "cell_type": "code",
   "execution_count": 415,
   "metadata": {},
   "outputs": [
    {
     "data": {
      "text/html": [
       "<div>\n",
       "<style scoped>\n",
       "    .dataframe tbody tr th:only-of-type {\n",
       "        vertical-align: middle;\n",
       "    }\n",
       "\n",
       "    .dataframe tbody tr th {\n",
       "        vertical-align: top;\n",
       "    }\n",
       "\n",
       "    .dataframe thead th {\n",
       "        text-align: right;\n",
       "    }\n",
       "</style>\n",
       "<table border=\"1\" class=\"dataframe\">\n",
       "  <thead>\n",
       "    <tr style=\"text-align: right;\">\n",
       "      <th></th>\n",
       "      <th>Body_Level</th>\n",
       "      <th>Gender</th>\n",
       "      <th>Age</th>\n",
       "      <th>Height</th>\n",
       "      <th>Weight</th>\n",
       "      <th>H_Cal_Consump</th>\n",
       "      <th>Veg_Consump</th>\n",
       "      <th>Water_Consump</th>\n",
       "      <th>Smoking</th>\n",
       "      <th>Meal_Count</th>\n",
       "      <th>...</th>\n",
       "      <th>Food_Between_Meals_Always</th>\n",
       "      <th>Food_Between_Meals_Frequently</th>\n",
       "      <th>Food_Between_Meals_Sometimes</th>\n",
       "      <th>Food_Between_Meals_no</th>\n",
       "      <th>Transport_Automobile</th>\n",
       "      <th>Transport_Bike</th>\n",
       "      <th>Transport_Motorbike</th>\n",
       "      <th>Transport_Public_Transportation</th>\n",
       "      <th>Transport_Walking</th>\n",
       "      <th>BMI</th>\n",
       "    </tr>\n",
       "  </thead>\n",
       "  <tbody>\n",
       "    <tr>\n",
       "      <th>0</th>\n",
       "      <td>3</td>\n",
       "      <td>1</td>\n",
       "      <td>0.646666</td>\n",
       "      <td>0.690578</td>\n",
       "      <td>1.016135</td>\n",
       "      <td>1</td>\n",
       "      <td>-0.199318</td>\n",
       "      <td>0.236558</td>\n",
       "      <td>0</td>\n",
       "      <td>0.402155</td>\n",
       "      <td>...</td>\n",
       "      <td>0</td>\n",
       "      <td>0</td>\n",
       "      <td>1</td>\n",
       "      <td>0</td>\n",
       "      <td>1</td>\n",
       "      <td>0</td>\n",
       "      <td>0</td>\n",
       "      <td>0</td>\n",
       "      <td>0</td>\n",
       "      <td>0.823278</td>\n",
       "    </tr>\n",
       "    <tr>\n",
       "      <th>1</th>\n",
       "      <td>3</td>\n",
       "      <td>1</td>\n",
       "      <td>-0.649582</td>\n",
       "      <td>-0.003364</td>\n",
       "      <td>0.686578</td>\n",
       "      <td>1</td>\n",
       "      <td>0.428856</td>\n",
       "      <td>-1.026715</td>\n",
       "      <td>0</td>\n",
       "      <td>-1.792121</td>\n",
       "      <td>...</td>\n",
       "      <td>0</td>\n",
       "      <td>0</td>\n",
       "      <td>1</td>\n",
       "      <td>0</td>\n",
       "      <td>0</td>\n",
       "      <td>0</td>\n",
       "      <td>0</td>\n",
       "      <td>1</td>\n",
       "      <td>0</td>\n",
       "      <td>0.806112</td>\n",
       "    </tr>\n",
       "    <tr>\n",
       "      <th>2</th>\n",
       "      <td>3</td>\n",
       "      <td>0</td>\n",
       "      <td>-0.537725</td>\n",
       "      <td>0.493657</td>\n",
       "      <td>1.790354</td>\n",
       "      <td>1</td>\n",
       "      <td>1.069487</td>\n",
       "      <td>1.401741</td>\n",
       "      <td>0</td>\n",
       "      <td>0.402155</td>\n",
       "      <td>...</td>\n",
       "      <td>0</td>\n",
       "      <td>0</td>\n",
       "      <td>1</td>\n",
       "      <td>0</td>\n",
       "      <td>0</td>\n",
       "      <td>0</td>\n",
       "      <td>0</td>\n",
       "      <td>1</td>\n",
       "      <td>0</td>\n",
       "      <td>1.751663</td>\n",
       "    </tr>\n",
       "    <tr>\n",
       "      <th>3</th>\n",
       "      <td>3</td>\n",
       "      <td>0</td>\n",
       "      <td>-1.291128</td>\n",
       "      <td>-0.545353</td>\n",
       "      <td>-0.036499</td>\n",
       "      <td>1</td>\n",
       "      <td>0.986227</td>\n",
       "      <td>-1.620907</td>\n",
       "      <td>0</td>\n",
       "      <td>0.402155</td>\n",
       "      <td>...</td>\n",
       "      <td>0</td>\n",
       "      <td>0</td>\n",
       "      <td>1</td>\n",
       "      <td>0</td>\n",
       "      <td>0</td>\n",
       "      <td>0</td>\n",
       "      <td>0</td>\n",
       "      <td>1</td>\n",
       "      <td>0</td>\n",
       "      <td>0.219426</td>\n",
       "    </tr>\n",
       "    <tr>\n",
       "      <th>4</th>\n",
       "      <td>3</td>\n",
       "      <td>0</td>\n",
       "      <td>0.270463</td>\n",
       "      <td>-0.818715</td>\n",
       "      <td>0.951256</td>\n",
       "      <td>1</td>\n",
       "      <td>1.069487</td>\n",
       "      <td>0.974150</td>\n",
       "      <td>0</td>\n",
       "      <td>0.402155</td>\n",
       "      <td>...</td>\n",
       "      <td>0</td>\n",
       "      <td>0</td>\n",
       "      <td>1</td>\n",
       "      <td>0</td>\n",
       "      <td>0</td>\n",
       "      <td>0</td>\n",
       "      <td>0</td>\n",
       "      <td>1</td>\n",
       "      <td>0</td>\n",
       "      <td>1.574457</td>\n",
       "    </tr>\n",
       "  </tbody>\n",
       "</table>\n",
       "<p>5 rows × 28 columns</p>\n",
       "</div>"
      ],
      "text/plain": [
       "   Body_Level  Gender       Age    Height    Weight  H_Cal_Consump  \\\n",
       "0           3       1  0.646666  0.690578  1.016135              1   \n",
       "1           3       1 -0.649582 -0.003364  0.686578              1   \n",
       "2           3       0 -0.537725  0.493657  1.790354              1   \n",
       "3           3       0 -1.291128 -0.545353 -0.036499              1   \n",
       "4           3       0  0.270463 -0.818715  0.951256              1   \n",
       "\n",
       "   Veg_Consump  Water_Consump  Smoking  Meal_Count  ...  \\\n",
       "0    -0.199318       0.236558        0    0.402155  ...   \n",
       "1     0.428856      -1.026715        0   -1.792121  ...   \n",
       "2     1.069487       1.401741        0    0.402155  ...   \n",
       "3     0.986227      -1.620907        0    0.402155  ...   \n",
       "4     1.069487       0.974150        0    0.402155  ...   \n",
       "\n",
       "   Food_Between_Meals_Always  Food_Between_Meals_Frequently  \\\n",
       "0                          0                              0   \n",
       "1                          0                              0   \n",
       "2                          0                              0   \n",
       "3                          0                              0   \n",
       "4                          0                              0   \n",
       "\n",
       "   Food_Between_Meals_Sometimes  Food_Between_Meals_no  Transport_Automobile  \\\n",
       "0                             1                      0                     1   \n",
       "1                             1                      0                     0   \n",
       "2                             1                      0                     0   \n",
       "3                             1                      0                     0   \n",
       "4                             1                      0                     0   \n",
       "\n",
       "   Transport_Bike  Transport_Motorbike  Transport_Public_Transportation  \\\n",
       "0               0                    0                                0   \n",
       "1               0                    0                                1   \n",
       "2               0                    0                                1   \n",
       "3               0                    0                                1   \n",
       "4               0                    0                                1   \n",
       "\n",
       "   Transport_Walking       BMI  \n",
       "0                  0  0.823278  \n",
       "1                  0  0.806112  \n",
       "2                  0  1.751663  \n",
       "3                  0  0.219426  \n",
       "4                  0  1.574457  \n",
       "\n",
       "[5 rows x 28 columns]"
      ]
     },
     "execution_count": 415,
     "metadata": {},
     "output_type": "execute_result"
    }
   ],
   "source": [
    "# read the dataset\n",
    "df = pd.read_csv('dataset.csv')\n",
    "\n",
    "# visualize the data\n",
    "df.head()"
   ]
  },
  {
   "cell_type": "code",
   "execution_count": 416,
   "metadata": {},
   "outputs": [
    {
     "name": "stdout",
     "output_type": "stream",
     "text": [
      "Training set shape: (1181, 27)\n",
      "Test set shape: (296, 27)\n"
     ]
    }
   ],
   "source": [
    "# data splitting\n",
    "X_train, X_test, Y_train, Y_test = train_test_split(df.drop('Body_Level', axis=1), df['Body_Level'], test_size=0.2, random_state=42)\n",
    "# Print the shapes of the training and test sets\n",
    "print('Training set shape:', X_train.shape)\n",
    "print('Test set shape:', X_test.shape)"
   ]
  },
  {
   "attachments": {},
   "cell_type": "markdown",
   "metadata": {},
   "source": [
    "### Without bmi feature"
   ]
  },
  {
   "cell_type": "code",
   "execution_count": 417,
   "metadata": {},
   "outputs": [
    {
     "data": {
      "text/html": [
       "<div>\n",
       "<style scoped>\n",
       "    .dataframe tbody tr th:only-of-type {\n",
       "        vertical-align: middle;\n",
       "    }\n",
       "\n",
       "    .dataframe tbody tr th {\n",
       "        vertical-align: top;\n",
       "    }\n",
       "\n",
       "    .dataframe thead th {\n",
       "        text-align: right;\n",
       "    }\n",
       "</style>\n",
       "<table border=\"1\" class=\"dataframe\">\n",
       "  <thead>\n",
       "    <tr style=\"text-align: right;\">\n",
       "      <th></th>\n",
       "      <th>Gender</th>\n",
       "      <th>Age</th>\n",
       "      <th>Height</th>\n",
       "      <th>Weight</th>\n",
       "      <th>H_Cal_Consump</th>\n",
       "      <th>Veg_Consump</th>\n",
       "      <th>Water_Consump</th>\n",
       "      <th>Smoking</th>\n",
       "      <th>Meal_Count</th>\n",
       "      <th>Fam_Hist</th>\n",
       "      <th>...</th>\n",
       "      <th>Alcohol_Consump_no</th>\n",
       "      <th>Food_Between_Meals_Always</th>\n",
       "      <th>Food_Between_Meals_Frequently</th>\n",
       "      <th>Food_Between_Meals_Sometimes</th>\n",
       "      <th>Food_Between_Meals_no</th>\n",
       "      <th>Transport_Automobile</th>\n",
       "      <th>Transport_Bike</th>\n",
       "      <th>Transport_Motorbike</th>\n",
       "      <th>Transport_Public_Transportation</th>\n",
       "      <th>Transport_Walking</th>\n",
       "    </tr>\n",
       "  </thead>\n",
       "  <tbody>\n",
       "    <tr>\n",
       "      <th>660</th>\n",
       "      <td>0</td>\n",
       "      <td>2.894485</td>\n",
       "      <td>-1.375850</td>\n",
       "      <td>-0.176003</td>\n",
       "      <td>1</td>\n",
       "      <td>0.185505</td>\n",
       "      <td>-0.213591</td>\n",
       "      <td>0</td>\n",
       "      <td>-1.714296</td>\n",
       "      <td>1</td>\n",
       "      <td>...</td>\n",
       "      <td>1</td>\n",
       "      <td>0</td>\n",
       "      <td>0</td>\n",
       "      <td>1</td>\n",
       "      <td>0</td>\n",
       "      <td>1</td>\n",
       "      <td>0</td>\n",
       "      <td>0</td>\n",
       "      <td>0</td>\n",
       "      <td>0</td>\n",
       "    </tr>\n",
       "    <tr>\n",
       "      <th>933</th>\n",
       "      <td>0</td>\n",
       "      <td>-0.520559</td>\n",
       "      <td>-0.756721</td>\n",
       "      <td>-1.352993</td>\n",
       "      <td>1</td>\n",
       "      <td>-0.780555</td>\n",
       "      <td>-1.620907</td>\n",
       "      <td>0</td>\n",
       "      <td>-2.127945</td>\n",
       "      <td>0</td>\n",
       "      <td>...</td>\n",
       "      <td>1</td>\n",
       "      <td>0</td>\n",
       "      <td>0</td>\n",
       "      <td>1</td>\n",
       "      <td>0</td>\n",
       "      <td>0</td>\n",
       "      <td>0</td>\n",
       "      <td>0</td>\n",
       "      <td>1</td>\n",
       "      <td>0</td>\n",
       "    </tr>\n",
       "    <tr>\n",
       "      <th>254</th>\n",
       "      <td>0</td>\n",
       "      <td>1.101919</td>\n",
       "      <td>-0.090067</td>\n",
       "      <td>-0.556348</td>\n",
       "      <td>1</td>\n",
       "      <td>0.358678</td>\n",
       "      <td>-0.376294</td>\n",
       "      <td>0</td>\n",
       "      <td>0.402155</td>\n",
       "      <td>1</td>\n",
       "      <td>...</td>\n",
       "      <td>0</td>\n",
       "      <td>0</td>\n",
       "      <td>0</td>\n",
       "      <td>1</td>\n",
       "      <td>0</td>\n",
       "      <td>1</td>\n",
       "      <td>0</td>\n",
       "      <td>0</td>\n",
       "      <td>0</td>\n",
       "      <td>0</td>\n",
       "    </tr>\n",
       "    <tr>\n",
       "      <th>1117</th>\n",
       "      <td>1</td>\n",
       "      <td>2.643528</td>\n",
       "      <td>0.511486</td>\n",
       "      <td>1.114023</td>\n",
       "      <td>1</td>\n",
       "      <td>-0.780555</td>\n",
       "      <td>-1.390872</td>\n",
       "      <td>0</td>\n",
       "      <td>0.024564</td>\n",
       "      <td>1</td>\n",
       "      <td>...</td>\n",
       "      <td>1</td>\n",
       "      <td>0</td>\n",
       "      <td>0</td>\n",
       "      <td>1</td>\n",
       "      <td>0</td>\n",
       "      <td>1</td>\n",
       "      <td>0</td>\n",
       "      <td>0</td>\n",
       "      <td>0</td>\n",
       "      <td>0</td>\n",
       "    </tr>\n",
       "    <tr>\n",
       "      <th>812</th>\n",
       "      <td>1</td>\n",
       "      <td>-0.275467</td>\n",
       "      <td>-0.765239</td>\n",
       "      <td>-0.629718</td>\n",
       "      <td>1</td>\n",
       "      <td>-0.780555</td>\n",
       "      <td>1.287202</td>\n",
       "      <td>0</td>\n",
       "      <td>-2.127945</td>\n",
       "      <td>0</td>\n",
       "      <td>...</td>\n",
       "      <td>0</td>\n",
       "      <td>0</td>\n",
       "      <td>0</td>\n",
       "      <td>0</td>\n",
       "      <td>1</td>\n",
       "      <td>0</td>\n",
       "      <td>0</td>\n",
       "      <td>0</td>\n",
       "      <td>1</td>\n",
       "      <td>0</td>\n",
       "    </tr>\n",
       "    <tr>\n",
       "      <th>...</th>\n",
       "      <td>...</td>\n",
       "      <td>...</td>\n",
       "      <td>...</td>\n",
       "      <td>...</td>\n",
       "      <td>...</td>\n",
       "      <td>...</td>\n",
       "      <td>...</td>\n",
       "      <td>...</td>\n",
       "      <td>...</td>\n",
       "      <td>...</td>\n",
       "      <td>...</td>\n",
       "      <td>...</td>\n",
       "      <td>...</td>\n",
       "      <td>...</td>\n",
       "      <td>...</td>\n",
       "      <td>...</td>\n",
       "      <td>...</td>\n",
       "      <td>...</td>\n",
       "      <td>...</td>\n",
       "      <td>...</td>\n",
       "      <td>...</td>\n",
       "    </tr>\n",
       "    <tr>\n",
       "      <th>1130</th>\n",
       "      <td>1</td>\n",
       "      <td>1.627336</td>\n",
       "      <td>0.334466</td>\n",
       "      <td>0.651969</td>\n",
       "      <td>1</td>\n",
       "      <td>0.146730</td>\n",
       "      <td>-1.620907</td>\n",
       "      <td>0</td>\n",
       "      <td>-0.800193</td>\n",
       "      <td>1</td>\n",
       "      <td>...</td>\n",
       "      <td>1</td>\n",
       "      <td>0</td>\n",
       "      <td>0</td>\n",
       "      <td>1</td>\n",
       "      <td>0</td>\n",
       "      <td>1</td>\n",
       "      <td>0</td>\n",
       "      <td>0</td>\n",
       "      <td>0</td>\n",
       "      <td>0</td>\n",
       "    </tr>\n",
       "    <tr>\n",
       "      <th>1294</th>\n",
       "      <td>0</td>\n",
       "      <td>-0.398926</td>\n",
       "      <td>0.335871</td>\n",
       "      <td>1.864626</td>\n",
       "      <td>1</td>\n",
       "      <td>1.069487</td>\n",
       "      <td>-0.837585</td>\n",
       "      <td>0</td>\n",
       "      <td>0.402155</td>\n",
       "      <td>1</td>\n",
       "      <td>...</td>\n",
       "      <td>0</td>\n",
       "      <td>0</td>\n",
       "      <td>0</td>\n",
       "      <td>1</td>\n",
       "      <td>0</td>\n",
       "      <td>0</td>\n",
       "      <td>0</td>\n",
       "      <td>0</td>\n",
       "      <td>1</td>\n",
       "      <td>0</td>\n",
       "    </tr>\n",
       "    <tr>\n",
       "      <th>860</th>\n",
       "      <td>1</td>\n",
       "      <td>0.275591</td>\n",
       "      <td>1.298113</td>\n",
       "      <td>0.707655</td>\n",
       "      <td>1</td>\n",
       "      <td>1.069487</td>\n",
       "      <td>0.170120</td>\n",
       "      <td>0</td>\n",
       "      <td>0.402155</td>\n",
       "      <td>1</td>\n",
       "      <td>...</td>\n",
       "      <td>0</td>\n",
       "      <td>0</td>\n",
       "      <td>0</td>\n",
       "      <td>1</td>\n",
       "      <td>0</td>\n",
       "      <td>0</td>\n",
       "      <td>0</td>\n",
       "      <td>0</td>\n",
       "      <td>1</td>\n",
       "      <td>0</td>\n",
       "    </tr>\n",
       "    <tr>\n",
       "      <th>1459</th>\n",
       "      <td>0</td>\n",
       "      <td>0.270463</td>\n",
       "      <td>-0.974747</td>\n",
       "      <td>0.718137</td>\n",
       "      <td>1</td>\n",
       "      <td>1.069487</td>\n",
       "      <td>0.973931</td>\n",
       "      <td>0</td>\n",
       "      <td>0.402155</td>\n",
       "      <td>1</td>\n",
       "      <td>...</td>\n",
       "      <td>0</td>\n",
       "      <td>0</td>\n",
       "      <td>0</td>\n",
       "      <td>1</td>\n",
       "      <td>0</td>\n",
       "      <td>0</td>\n",
       "      <td>0</td>\n",
       "      <td>0</td>\n",
       "      <td>1</td>\n",
       "      <td>0</td>\n",
       "    </tr>\n",
       "    <tr>\n",
       "      <th>1126</th>\n",
       "      <td>1</td>\n",
       "      <td>-0.432540</td>\n",
       "      <td>0.761577</td>\n",
       "      <td>1.127474</td>\n",
       "      <td>1</td>\n",
       "      <td>-0.780555</td>\n",
       "      <td>-0.008257</td>\n",
       "      <td>0</td>\n",
       "      <td>0.402155</td>\n",
       "      <td>1</td>\n",
       "      <td>...</td>\n",
       "      <td>0</td>\n",
       "      <td>0</td>\n",
       "      <td>0</td>\n",
       "      <td>1</td>\n",
       "      <td>0</td>\n",
       "      <td>0</td>\n",
       "      <td>0</td>\n",
       "      <td>0</td>\n",
       "      <td>1</td>\n",
       "      <td>0</td>\n",
       "    </tr>\n",
       "  </tbody>\n",
       "</table>\n",
       "<p>1181 rows × 26 columns</p>\n",
       "</div>"
      ],
      "text/plain": [
       "      Gender       Age    Height    Weight  H_Cal_Consump  Veg_Consump  \\\n",
       "660        0  2.894485 -1.375850 -0.176003              1     0.185505   \n",
       "933        0 -0.520559 -0.756721 -1.352993              1    -0.780555   \n",
       "254        0  1.101919 -0.090067 -0.556348              1     0.358678   \n",
       "1117       1  2.643528  0.511486  1.114023              1    -0.780555   \n",
       "812        1 -0.275467 -0.765239 -0.629718              1    -0.780555   \n",
       "...      ...       ...       ...       ...            ...          ...   \n",
       "1130       1  1.627336  0.334466  0.651969              1     0.146730   \n",
       "1294       0 -0.398926  0.335871  1.864626              1     1.069487   \n",
       "860        1  0.275591  1.298113  0.707655              1     1.069487   \n",
       "1459       0  0.270463 -0.974747  0.718137              1     1.069487   \n",
       "1126       1 -0.432540  0.761577  1.127474              1    -0.780555   \n",
       "\n",
       "      Water_Consump  Smoking  Meal_Count  Fam_Hist  ...  Alcohol_Consump_no  \\\n",
       "660       -0.213591        0   -1.714296         1  ...                   1   \n",
       "933       -1.620907        0   -2.127945         0  ...                   1   \n",
       "254       -0.376294        0    0.402155         1  ...                   0   \n",
       "1117      -1.390872        0    0.024564         1  ...                   1   \n",
       "812        1.287202        0   -2.127945         0  ...                   0   \n",
       "...             ...      ...         ...       ...  ...                 ...   \n",
       "1130      -1.620907        0   -0.800193         1  ...                   1   \n",
       "1294      -0.837585        0    0.402155         1  ...                   0   \n",
       "860        0.170120        0    0.402155         1  ...                   0   \n",
       "1459       0.973931        0    0.402155         1  ...                   0   \n",
       "1126      -0.008257        0    0.402155         1  ...                   0   \n",
       "\n",
       "      Food_Between_Meals_Always  Food_Between_Meals_Frequently  \\\n",
       "660                           0                              0   \n",
       "933                           0                              0   \n",
       "254                           0                              0   \n",
       "1117                          0                              0   \n",
       "812                           0                              0   \n",
       "...                         ...                            ...   \n",
       "1130                          0                              0   \n",
       "1294                          0                              0   \n",
       "860                           0                              0   \n",
       "1459                          0                              0   \n",
       "1126                          0                              0   \n",
       "\n",
       "      Food_Between_Meals_Sometimes  Food_Between_Meals_no  \\\n",
       "660                              1                      0   \n",
       "933                              1                      0   \n",
       "254                              1                      0   \n",
       "1117                             1                      0   \n",
       "812                              0                      1   \n",
       "...                            ...                    ...   \n",
       "1130                             1                      0   \n",
       "1294                             1                      0   \n",
       "860                              1                      0   \n",
       "1459                             1                      0   \n",
       "1126                             1                      0   \n",
       "\n",
       "      Transport_Automobile  Transport_Bike  Transport_Motorbike  \\\n",
       "660                      1               0                    0   \n",
       "933                      0               0                    0   \n",
       "254                      1               0                    0   \n",
       "1117                     1               0                    0   \n",
       "812                      0               0                    0   \n",
       "...                    ...             ...                  ...   \n",
       "1130                     1               0                    0   \n",
       "1294                     0               0                    0   \n",
       "860                      0               0                    0   \n",
       "1459                     0               0                    0   \n",
       "1126                     0               0                    0   \n",
       "\n",
       "      Transport_Public_Transportation  Transport_Walking  \n",
       "660                                 0                  0  \n",
       "933                                 1                  0  \n",
       "254                                 0                  0  \n",
       "1117                                0                  0  \n",
       "812                                 1                  0  \n",
       "...                               ...                ...  \n",
       "1130                                0                  0  \n",
       "1294                                1                  0  \n",
       "860                                 1                  0  \n",
       "1459                                1                  0  \n",
       "1126                                1                  0  \n",
       "\n",
       "[1181 rows x 26 columns]"
      ]
     },
     "execution_count": 417,
     "metadata": {},
     "output_type": "execute_result"
    }
   ],
   "source": [
    "# drop the bmi feature\n",
    "x_no_bmi_train = X_train.drop('BMI', axis=1)\n",
    "x_no_bmi_train"
   ]
  },
  {
   "cell_type": "code",
   "execution_count": 418,
   "metadata": {},
   "outputs": [],
   "source": [
    "# train perceptron model\n",
    "perceptron_model = Perceptron()\n",
    "trained_perceptron_model = perceptron_model.fit(x_no_bmi_train, Y_train)"
   ]
  },
  {
   "cell_type": "code",
   "execution_count": 419,
   "metadata": {},
   "outputs": [
    {
     "name": "stdout",
     "output_type": "stream",
     "text": [
      "Accuracy: 0.7942102264634666 +/- 0.052622328453952746\n",
      "F1-score: 0.785008008790076 +/- 0.051750748165516273\n",
      "Accuracy: 0.6790540540540541\n",
      "Precision: 0.7531418492355992\n",
      "Recall: 0.6790540540540541\n",
      "F1 score: 0.6197850222740702\n",
      "Confusion matrix:\n",
      " [[ 25  16   0   0]\n",
      " [  0  40   3   0]\n",
      " [  0  43   9  33]\n",
      " [  0   0   0 127]]\n"
     ]
    }
   ],
   "source": [
    "apply_crossvalidation(perceptron_model, x_no_bmi_train, Y_train)\n",
    "Evaluate(trained_perceptron_model, X_test.drop('BMI', axis=1), Y_test)"
   ]
  },
  {
   "attachments": {},
   "cell_type": "markdown",
   "metadata": {},
   "source": [
    "### Using BMI"
   ]
  },
  {
   "cell_type": "code",
   "execution_count": 420,
   "metadata": {},
   "outputs": [],
   "source": [
    "# train perceptron model\n",
    "perceptron_model = Perceptron()\n",
    "trained_perceptron_model = perceptron_model.fit(X_train, Y_train)"
   ]
  },
  {
   "cell_type": "code",
   "execution_count": 421,
   "metadata": {},
   "outputs": [
    {
     "name": "stdout",
     "output_type": "stream",
     "text": [
      "Accuracy: 0.8154322746047571 +/- 0.035176656811024096\n",
      "F1-score: 0.8078091263397601 +/- 0.03719152001051629\n",
      "Accuracy: 0.7331081081081081\n",
      "Precision: 0.8024498731619109\n",
      "Recall: 0.7331081081081081\n",
      "F1 score: 0.7313983008443043\n",
      "Confusion matrix:\n",
      " [[ 26  12   3   0]\n",
      " [  1  35   7   0]\n",
      " [  0  44  31  10]\n",
      " [  0   2   0 125]]\n"
     ]
    }
   ],
   "source": [
    "apply_crossvalidation(perceptron_model, X_train, Y_train)\n",
    "Evaluate(trained_perceptron_model, X_test, Y_test)"
   ]
  },
  {
   "attachments": {},
   "cell_type": "markdown",
   "metadata": {},
   "source": [
    "### BMI, Height\n"
   ]
  },
  {
   "cell_type": "code",
   "execution_count": 422,
   "metadata": {},
   "outputs": [
    {
     "data": {
      "text/plain": [
       "3    553\n",
       "2    321\n",
       "1    158\n",
       "0    149\n",
       "Name: Body_Level, dtype: int64"
      ]
     },
     "execution_count": 422,
     "metadata": {},
     "output_type": "execute_result"
    }
   ],
   "source": [
    "X_train['BMI']\n",
    "Y_train.value_counts()"
   ]
  },
  {
   "cell_type": "code",
   "execution_count": 423,
   "metadata": {},
   "outputs": [
    {
     "data": {
      "image/png": "[encoded data removed]",
      "text/plain": [
       "<Figure size 640x480 with 1 Axes>"
      ]
     },
     "metadata": {},
     "output_type": "display_data"
    }
   ],
   "source": [
    "# categories of the points as integers (1-5)\n",
    "categories = [0, 1, 2, 3]\n",
    "\n",
    "# define the colors for each category\n",
    "colors = {\n",
    "    0: 'orange',\n",
    "    1: 'red',\n",
    "    2: 'blue',\n",
    "    3: 'green'\n",
    "}\n",
    "\n",
    "classes = [\n",
    "    X_train.loc[Y_train == 0],\n",
    "    X_train.loc[Y_train == 1],\n",
    "    X_train.loc[Y_train == 2],\n",
    "    X_train.loc[Y_train == 3]\n",
    "]\n",
    "\n",
    "# create a scatter plot with different colors for each category\n",
    "plt.scatter(classes[0]['BMI'], classes[0]['Height'], color=colors[0], label='Body Level 0')\n",
    "plt.scatter(classes[1]['BMI'], classes[1]['Height'], color=colors[1], label='Body Level 1')\n",
    "plt.scatter(classes[2]['BMI'], classes[2]['Height'], color=colors[2], label='Body Level 2')\n",
    "plt.scatter(classes[3]['BMI'], classes[3]['Height'], color=colors[3], label='Body Level 3')\n",
    "\n",
    "\n",
    "# add gridlines and labels to the plot\n",
    "plt.grid(True)\n",
    "plt.xlabel('BMI')\n",
    "plt.ylabel('Height')\n",
    "plt.legend()\n",
    "\n",
    "# show the plot\n",
    "plt.show()"
   ]
  },
  {
   "cell_type": "code",
   "execution_count": 424,
   "metadata": {},
   "outputs": [],
   "source": [
    "# train perceptron model\n",
    "perceptron_model = Perceptron()\n",
    "trained_perceptron_model = perceptron_model.fit(X_train[['BMI', 'Height']], Y_train)"
   ]
  },
  {
   "cell_type": "code",
   "execution_count": 425,
   "metadata": {},
   "outputs": [
    {
     "name": "stdout",
     "output_type": "stream",
     "text": [
      "Accuracy: 0.7637302378578551 +/- 0.07341691855495999\n",
      "F1-score: 0.7340592318853683 +/- 0.09394551816822853\n",
      "Accuracy: 0.7837837837837838\n",
      "Precision: 0.7754324492588278\n",
      "Recall: 0.7837837837837838\n",
      "F1 score: 0.7665928180911984\n",
      "Confusion matrix:\n",
      " [[ 33   0   8   0]\n",
      " [  2   6  35   0]\n",
      " [  0  12  72   1]\n",
      " [  0   0   6 121]]\n"
     ]
    }
   ],
   "source": [
    "apply_crossvalidation(perceptron_model, X_train[['BMI', 'Height']], Y_train)\n",
    "Evaluate(trained_perceptron_model, X_test[['BMI', 'Height']], Y_test)"
   ]
  },
  {
   "cell_type": "code",
   "execution_count": 426,
   "metadata": {},
   "outputs": [
    {
     "data": {
      "text/plain": [
       "array([[-15.56370666,   0.39176811],\n",
       "       [ -0.98328239,   0.64045086],\n",
       "       [ -0.97950239,  -1.19640575],\n",
       "       [ 13.52902788,   0.68020611]])"
      ]
     },
     "execution_count": 426,
     "metadata": {},
     "output_type": "execute_result"
    }
   ],
   "source": [
    "# print the model coefficent\n",
    "trained_perceptron_model.coef_"
   ]
  },
  {
   "attachments": {},
   "cell_type": "markdown",
   "metadata": {},
   "source": [
    "### BMI & Height ^ 2"
   ]
  },
  {
   "cell_type": "code",
   "execution_count": 427,
   "metadata": {},
   "outputs": [],
   "source": [
    "# transform the equation into 2nd polynomial\n",
    "x_train = X_train.copy()\n",
    "x_train['Height'] = x_train['Height'] ** 2\n",
    "\n",
    "x_test = X_test.copy()\n",
    "x_test['Height'] = x_test['Height'] ** 2"
   ]
  },
  {
   "cell_type": "code",
   "execution_count": 428,
   "metadata": {},
   "outputs": [],
   "source": [
    "# train perceptron model\n",
    "perceptron_model = Perceptron()\n",
    "trained_perceptron_model = perceptron_model.fit(x_train[['BMI', 'Height']], Y_train)"
   ]
  },
  {
   "cell_type": "code",
   "execution_count": 429,
   "metadata": {},
   "outputs": [
    {
     "name": "stdout",
     "output_type": "stream",
     "text": [
      "Accuracy: 0.8205027773821392 +/- 0.033785598884053684\n",
      "F1-score: 0.7807303553177565 +/- 0.04260459656907801\n",
      "Accuracy: 0.847972972972973\n",
      "Precision: 0.7428387538404544\n",
      "Recall: 0.847972972972973\n",
      "F1 score: 0.7876575550404983\n",
      "Confusion matrix:\n",
      " [[ 41   0   0   0]\n",
      " [  5   0  38   0]\n",
      " [  0   0  83   2]\n",
      " [  0   0   0 127]]\n"
     ]
    },
    {
     "name": "stderr",
     "output_type": "stream",
     "text": [
      "c:\\Users\\omara\\AppData\\Local\\Programs\\Python\\Python311\\Lib\\site-packages\\sklearn\\metrics\\_classification.py:1344: UndefinedMetricWarning: Precision is ill-defined and being set to 0.0 in labels with no predicted samples. Use `zero_division` parameter to control this behavior.\n",
      "  _warn_prf(average, modifier, msg_start, len(result))\n"
     ]
    }
   ],
   "source": [
    "apply_crossvalidation(perceptron_model, x_train[['BMI', 'Height']], Y_train)\n",
    "Evaluate(trained_perceptron_model, x_test[['BMI', 'Height']], Y_test)"
   ]
  },
  {
   "attachments": {},
   "cell_type": "markdown",
   "metadata": {},
   "source": [
    "### Bmi and weight"
   ]
  },
  {
   "cell_type": "code",
   "execution_count": 430,
   "metadata": {},
   "outputs": [
    {
     "data": {
      "image/png": "[encoded data removed]",
      "text/plain": [
       "<Figure size 640x480 with 1 Axes>"
      ]
     },
     "metadata": {},
     "output_type": "display_data"
    }
   ],
   "source": [
    "# categories of the points as integers (1-5)\n",
    "categories = [0, 1, 2, 3]\n",
    "\n",
    "# define the colors for each category\n",
    "colors = {\n",
    "    0: 'orange',\n",
    "    1: 'red',\n",
    "    2: 'blue',\n",
    "    3: 'green'\n",
    "}\n",
    "\n",
    "classes = [\n",
    "    X_train.loc[Y_train == 0],\n",
    "    X_train.loc[Y_train == 1],\n",
    "    X_train.loc[Y_train == 2],\n",
    "    X_train.loc[Y_train == 3]\n",
    "]\n",
    "\n",
    "# create a scatter plot with different colors for each category\n",
    "plt.scatter(classes[0]['BMI'], classes[0]['Weight'], color=colors[0], label='Body Level 0')\n",
    "plt.scatter(classes[1]['BMI'], classes[1]['Weight'], color=colors[1], label='Body Level 1')\n",
    "plt.scatter(classes[2]['BMI'], classes[2]['Weight'], color=colors[2], label='Body Level 2')\n",
    "plt.scatter(classes[3]['BMI'], classes[3]['Weight'], color=colors[3], label='Body Level 3')\n",
    "\n",
    "\n",
    "# add gridlines and labels to the plot\n",
    "plt.grid(True)\n",
    "plt.xlabel('BMI')\n",
    "plt.ylabel('Weight')\n",
    "plt.legend()\n",
    "\n",
    "# show the plot\n",
    "plt.show()"
   ]
  },
  {
   "cell_type": "code",
   "execution_count": 431,
   "metadata": {},
   "outputs": [],
   "source": [
    "# x_train = X_train\n",
    "# x_train['Weight'] = x_train['Weight'] ** 2"
   ]
  },
  {
   "cell_type": "code",
   "execution_count": 432,
   "metadata": {},
   "outputs": [],
   "source": [
    "# train perceptron model\n",
    "perceptron_model = Perceptron()\n",
    "trained_perceptron_model = perceptron_model.fit(X_train[['BMI', 'Weight']], Y_train)"
   ]
  },
  {
   "cell_type": "code",
   "execution_count": 433,
   "metadata": {},
   "outputs": [
    {
     "name": "stdout",
     "output_type": "stream",
     "text": [
      "Accuracy: 0.7892536675687224 +/- 0.08955126836347609\n",
      "F1-score: 0.7425100583925369 +/- 0.1209543865869612\n",
      "Accuracy: 0.8851351351351351\n",
      "Precision: 0.9233666862228933\n",
      "Recall: 0.8851351351351351\n",
      "F1 score: 0.8868549514622704\n",
      "Confusion matrix:\n",
      " [[ 40   1   0   0]\n",
      " [  1  41   1   0]\n",
      " [  0  29  54   2]\n",
      " [  0   0   0 127]]\n"
     ]
    }
   ],
   "source": [
    "apply_crossvalidation(perceptron_model, X_train[['BMI', 'Weight']], Y_train)\n",
    "Evaluate(trained_perceptron_model, X_test[['BMI', 'Weight']], Y_test)"
   ]
  },
  {
   "cell_type": "code",
   "execution_count": 434,
   "metadata": {},
   "outputs": [
    {
     "data": {
      "text/plain": [
       "array([[-18.00498041,  -0.91262152],\n",
       "       [ -1.04884939,  -0.29225461],\n",
       "       [  0.22627914,   0.95985847],\n",
       "       [  6.4144445 ,   0.9219602 ]])"
      ]
     },
     "execution_count": 434,
     "metadata": {},
     "output_type": "execute_result"
    }
   ],
   "source": [
    "# print the model coefficent\n",
    "trained_perceptron_model.coef_"
   ]
  },
  {
   "attachments": {},
   "cell_type": "markdown",
   "metadata": {},
   "source": [
    "### BMI & Weight ^ 2"
   ]
  },
  {
   "cell_type": "code",
   "execution_count": 435,
   "metadata": {},
   "outputs": [],
   "source": [
    "# transform the equation into 2nd polynomial\n",
    "x_train = X_train.copy()\n",
    "x_train['Weight'] = x_train['Weight'] ** 2\n",
    "\n",
    "x_test = X_test.copy()\n",
    "x_test['Weight'] = x_test['Weight'] ** 2"
   ]
  },
  {
   "cell_type": "code",
   "execution_count": 436,
   "metadata": {},
   "outputs": [],
   "source": [
    "# train perceptron model\n",
    "perceptron_model = Perceptron()\n",
    "trained_perceptron_model = perceptron_model.fit(x_train[['BMI', 'Weight']], Y_train)"
   ]
  },
  {
   "cell_type": "code",
   "execution_count": 437,
   "metadata": {},
   "outputs": [
    {
     "name": "stdout",
     "output_type": "stream",
     "text": [
      "Accuracy: 0.8349309215211509 +/- 0.09435757119584408\n",
      "F1-score: 0.8027426855774387 +/- 0.1106295325917473\n",
      "Accuracy: 0.8141891891891891\n",
      "Precision: 0.7260300885300885\n",
      "Recall: 0.8141891891891891\n",
      "F1 score: 0.7574551520082811\n",
      "Confusion matrix:\n",
      " [[ 41   0   0   0]\n",
      " [ 14   0  29   0]\n",
      " [  0   0  85   0]\n",
      " [  0   0  12 115]]\n"
     ]
    },
    {
     "name": "stderr",
     "output_type": "stream",
     "text": [
      "c:\\Users\\omara\\AppData\\Local\\Programs\\Python\\Python311\\Lib\\site-packages\\sklearn\\metrics\\_classification.py:1344: UndefinedMetricWarning: Precision is ill-defined and being set to 0.0 in labels with no predicted samples. Use `zero_division` parameter to control this behavior.\n",
      "  _warn_prf(average, modifier, msg_start, len(result))\n"
     ]
    }
   ],
   "source": [
    "apply_crossvalidation(perceptron_model, x_train[['BMI', 'Weight']], Y_train)\n",
    "Evaluate(trained_perceptron_model, x_test[['BMI', 'Weight']], Y_test)"
   ]
  },
  {
   "attachments": {},
   "cell_type": "markdown",
   "metadata": {},
   "source": [
    "### Using Only BMI"
   ]
  },
  {
   "cell_type": "code",
   "execution_count": 438,
   "metadata": {},
   "outputs": [
    {
     "data": {
      "image/png": "[encoded data removed]",
      "text/plain": [
       "<Figure size 640x480 with 1 Axes>"
      ]
     },
     "metadata": {},
     "output_type": "display_data"
    }
   ],
   "source": [
    "# plot bmi\n",
    "\n",
    "# Plot the data\n",
    "colors = {\n",
    "    0: 'orange',\n",
    "    1: 'red',\n",
    "    2: 'blue',\n",
    "    3: 'green'\n",
    "}\n",
    "\n",
    "classes = [\n",
    "    X_train.loc[Y_train == 0],\n",
    "    X_train.loc[Y_train == 1],\n",
    "    X_train.loc[Y_train == 2],\n",
    "    X_train.loc[Y_train == 3]\n",
    "]\n",
    "\n",
    "# create a scatter plot with different colors for each category\n",
    "plt.scatter(classes[0]['BMI'], np.zeros_like(classes[0]['BMI']) + 1, color=colors[0], label='Body Level 0')\n",
    "plt.scatter(classes[1]['BMI'], np.zeros_like(classes[1]['BMI']) + 2, color=colors[1], label='Body Level 1')\n",
    "plt.scatter(classes[2]['BMI'], np.zeros_like(classes[2]['BMI']) + 3, color=colors[2], label='Body Level 2')\n",
    "plt.scatter(classes[3]['BMI'], np.zeros_like(classes[3]['BMI']) + 4, color=colors[3], label='Body Level 3')\n",
    "\n",
    "# Add axis labels and a title\n",
    "plt.xlabel('BMI')\n",
    "plt.legend()\n",
    "\n",
    "\n",
    "# Display the plot\n",
    "plt.show()"
   ]
  },
  {
   "cell_type": "code",
   "execution_count": 439,
   "metadata": {},
   "outputs": [],
   "source": [
    "# make the date as one straight line\n",
    "x_train = X_train\n",
    "x_train = x_train.assign(Zero = np.zeros_like(x_train['BMI']))\n",
    "\n",
    "x_test = X_test\n",
    "x_test = x_test.assign(Zero = np.zeros_like(x_test['BMI']))\n"
   ]
  },
  {
   "cell_type": "code",
   "execution_count": 440,
   "metadata": {},
   "outputs": [],
   "source": [
    "# train perceptron model\n",
    "perceptron_model = Perceptron()\n",
    "trained_perceptron_model = perceptron_model.fit(x_train[['BMI', 'Zero']], Y_train)"
   ]
  },
  {
   "cell_type": "code",
   "execution_count": 441,
   "metadata": {},
   "outputs": [
    {
     "data": {
      "text/plain": [
       "array([[-12.83388863,   0.        ],\n",
       "       [ -1.95598539,   0.        ],\n",
       "       [  1.15703664,   0.        ],\n",
       "       [  5.72600381,   0.        ]])"
      ]
     },
     "execution_count": 441,
     "metadata": {},
     "output_type": "execute_result"
    }
   ],
   "source": [
    "# print the model coefficent\n",
    "trained_perceptron_model.coef_"
   ]
  },
  {
   "cell_type": "code",
   "execution_count": 442,
   "metadata": {},
   "outputs": [
    {
     "name": "stdout",
     "output_type": "stream",
     "text": [
      "Accuracy: 0.769633955277026 +/- 0.1172449461849973\n",
      "F1-score: 0.7109598348703429 +/- 0.1492399491894236\n",
      "Accuracy: 0.5945945945945946\n",
      "Precision: 0.7640803577624632\n",
      "Recall: 0.5945945945945946\n",
      "F1 score: 0.5958755246645633\n",
      "Confusion matrix:\n",
      " [[ 5 36  0  0]\n",
      " [ 0 43  0  0]\n",
      " [ 0 43 42  0]\n",
      " [ 0  0 41 86]]\n"
     ]
    }
   ],
   "source": [
    "# Evaluation\n",
    "apply_crossvalidation(perceptron_model, x_train[['BMI', 'Zero']], Y_train)\n",
    "Evaluate(trained_perceptron_model, x_test[['BMI', 'Zero']], Y_test)"
   ]
  },
  {
   "cell_type": "code",
   "execution_count": null,
   "metadata": {},
   "outputs": [],
   "source": []
  }
 ],
 "metadata": {
  "kernelspec": {
   "display_name": "Python 3",
   "language": "python",
   "name": "python3"
  },
  "language_info": {
   "codemirror_mode": {
    "name": "ipython",
    "version": 3
   },
   "file_extension": ".py",
   "mimetype": "text/x-python",
   "name": "python",
   "nbconvert_exporter": "python",
   "pygments_lexer": "ipython3",
   "version": "3.11.3"
  },
  "orig_nbformat": 4
 },
 "nbformat": 4,
 "nbformat_minor": 2
}
